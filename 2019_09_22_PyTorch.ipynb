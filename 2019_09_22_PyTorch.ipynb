{
  "nbformat": 4,
  "nbformat_minor": 0,
  "metadata": {
    "colab": {
      "name": "2019_09_22_PyTorch.ipynb",
      "provenance": [],
      "toc_visible": true,
      "include_colab_link": true
    },
    "kernelspec": {
      "name": "python3",
      "display_name": "Python 3"
    },
    "accelerator": "GPU"
  },
  "cells": [
    {
      "cell_type": "markdown",
      "metadata": {
        "id": "view-in-github",
        "colab_type": "text"
      },
      "source": [
        "<a href=\"https://colab.research.google.com/github/omdgit/RL_pytorch/blob/master/2019_09_22_PyTorch.ipynb\" target=\"_parent\"><img src=\"https://colab.research.google.com/assets/colab-badge.svg\" alt=\"Open In Colab\"/></a>"
      ]
    },
    {
      "cell_type": "markdown",
      "metadata": {
        "id": "hqXPnadJhz6h",
        "colab_type": "text"
      },
      "source": [
        "# PyTorch tutorial  \n",
        "## PyTorch tutorial  \n",
        "link: [colab tutorial](https://colab.research.google.com/drive/1gJAAN3UI9005ecVmxPun5ZLCGu4YBtLo#scrollTo=p2mwWav-iMPh)"
      ]
    },
    {
      "cell_type": "code",
      "metadata": {
        "id": "NQit5xI_pk6H",
        "colab_type": "code",
        "outputId": "a3b9f982-3988-4d5b-f72b-9b60a6c8dc25",
        "colab": {
          "base_uri": "https://localhost:8080/",
          "height": 51
        }
      },
      "source": [
        "import sys\n",
        "print(sys.version)"
      ],
      "execution_count": 1,
      "outputs": [
        {
          "output_type": "stream",
          "text": [
            "3.6.8 (default, Jan 14 2019, 11:02:34) \n",
            "[GCC 8.0.1 20180414 (experimental) [trunk revision 259383]]\n"
          ],
          "name": "stdout"
        }
      ]
    },
    {
      "cell_type": "code",
      "metadata": {
        "id": "b6bncAVfpQoq",
        "colab_type": "code",
        "colab": {}
      },
      "source": [
        "# make sure to enable GPU acceleration!\n",
        "device = 'cuda'"
      ],
      "execution_count": 0,
      "outputs": []
    },
    {
      "cell_type": "markdown",
      "metadata": {
        "id": "bSFfn3i-pIZC",
        "colab_type": "text"
      },
      "source": [
        "!pip3 install torch torchvision"
      ]
    },
    {
      "cell_type": "code",
      "metadata": {
        "id": "yDNqol1Ohfk-",
        "colab_type": "code",
        "outputId": "1c0f21a7-b3c4-48c5-c205-e417d398aca3",
        "colab": {
          "base_uri": "https://localhost:8080/",
          "height": 221
        }
      },
      "source": [
        "!pip3 install http://download.pytorch.org/whl/cu80/torch-0.3.0.post4-cp36-cp36m-linux_x86_64.whl"
      ],
      "execution_count": 0,
      "outputs": [
        {
          "output_type": "stream",
          "text": [
            "Collecting torch==0.3.0.post4 from http://download.pytorch.org/whl/cu80/torch-0.3.0.post4-cp36-cp36m-linux_x86_64.whl\n",
            "\u001b[?25l  Downloading http://download.pytorch.org/whl/cu80/torch-0.3.0.post4-cp36-cp36m-linux_x86_64.whl (592.3MB)\n",
            "\u001b[K     |████████████████████████████████| 592.3MB 1.3MB/s \n",
            "\u001b[?25hRequirement already satisfied: numpy in /usr/local/lib/python3.6/dist-packages (from torch==0.3.0.post4) (1.16.5)\n",
            "Requirement already satisfied: pyyaml in /usr/local/lib/python3.6/dist-packages (from torch==0.3.0.post4) (3.13)\n",
            "\u001b[31mERROR: torchvision 0.3.0 has requirement torch>=1.1.0, but you'll have torch 0.3.0.post4 which is incompatible.\u001b[0m\n",
            "\u001b[31mERROR: fastai 1.0.57 has requirement torch>=1.0.0, but you'll have torch 0.3.0.post4 which is incompatible.\u001b[0m\n",
            "Installing collected packages: torch\n",
            "  Found existing installation: torch 1.1.0\n",
            "    Uninstalling torch-1.1.0:\n",
            "      Successfully uninstalled torch-1.1.0\n",
            "Successfully installed torch-0.3.0.post4\n"
          ],
          "name": "stdout"
        }
      ]
    },
    {
      "cell_type": "code",
      "metadata": {
        "id": "gjVbFeGeq9h4",
        "colab_type": "code",
        "outputId": "61e8c4f1-4c4e-4dc7-ad50-a7e5fe7593c1",
        "colab": {
          "base_uri": "https://localhost:8080/",
          "height": 258
        }
      },
      "source": [
        "!pip3 install torchvision"
      ],
      "execution_count": 0,
      "outputs": [
        {
          "output_type": "stream",
          "text": [
            "Requirement already satisfied: torchvision in /usr/local/lib/python3.6/dist-packages (0.3.0)\n",
            "Requirement already satisfied: six in /usr/local/lib/python3.6/dist-packages (from torchvision) (1.12.0)\n",
            "Collecting torch>=1.1.0 (from torchvision)\n",
            "\u001b[?25l  Downloading https://files.pythonhosted.org/packages/30/57/d5cceb0799c06733eefce80c395459f28970ebb9e896846ce96ab579a3f1/torch-1.2.0-cp36-cp36m-manylinux1_x86_64.whl (748.8MB)\n",
            "\u001b[K     |████████████████████████████████| 748.9MB 27kB/s \n",
            "\u001b[?25hRequirement already satisfied: pillow>=4.1.1 in /usr/local/lib/python3.6/dist-packages (from torchvision) (4.3.0)\n",
            "Requirement already satisfied: numpy in /usr/local/lib/python3.6/dist-packages (from torchvision) (1.16.5)\n",
            "Requirement already satisfied: olefile in /usr/local/lib/python3.6/dist-packages (from pillow>=4.1.1->torchvision) (0.46)\n",
            "Installing collected packages: torch\n",
            "  Found existing installation: torch 0.3.0.post4\n",
            "    Uninstalling torch-0.3.0.post4:\n",
            "      Successfully uninstalled torch-0.3.0.post4\n",
            "Successfully installed torch-1.2.0\n"
          ],
          "name": "stdout"
        }
      ]
    },
    {
      "cell_type": "code",
      "metadata": {
        "id": "NjhJENdYrLJn",
        "colab_type": "code",
        "colab": {}
      },
      "source": [
        "import torch"
      ],
      "execution_count": 0,
      "outputs": []
    },
    {
      "cell_type": "code",
      "metadata": {
        "id": "G286ZgsisnA0",
        "colab_type": "code",
        "colab": {}
      },
      "source": [
        "x = torch.rand(5, 3)"
      ],
      "execution_count": 0,
      "outputs": []
    },
    {
      "cell_type": "code",
      "metadata": {
        "id": "1_wQsxhCsqW7",
        "colab_type": "code",
        "outputId": "65a49eec-b367-4392-b094-4e9e75f696e6",
        "colab": {
          "base_uri": "https://localhost:8080/",
          "height": 102
        }
      },
      "source": [
        "print(x)"
      ],
      "execution_count": 5,
      "outputs": [
        {
          "output_type": "stream",
          "text": [
            "tensor([[0.0240, 0.8628, 0.3548],\n",
            "        [0.5947, 0.7264, 0.7625],\n",
            "        [0.4274, 0.0245, 0.8697],\n",
            "        [0.3920, 0.8039, 0.6226],\n",
            "        [0.9197, 0.6609, 0.4910]])\n"
          ],
          "name": "stdout"
        }
      ]
    },
    {
      "cell_type": "code",
      "metadata": {
        "id": "O-DYy-6-srPc",
        "colab_type": "code",
        "outputId": "594dccc7-5874-4f05-c741-8b5f88e129c4",
        "colab": {
          "base_uri": "https://localhost:8080/",
          "height": 34
        }
      },
      "source": [
        "torch.cuda.is_available()"
      ],
      "execution_count": 6,
      "outputs": [
        {
          "output_type": "execute_result",
          "data": {
            "text/plain": [
              "True"
            ]
          },
          "metadata": {
            "tags": []
          },
          "execution_count": 6
        }
      ]
    },
    {
      "cell_type": "code",
      "metadata": {
        "id": "GAPneDNNs51a",
        "colab_type": "code",
        "colab": {}
      },
      "source": [
        ""
      ],
      "execution_count": 0,
      "outputs": []
    },
    {
      "cell_type": "markdown",
      "metadata": {
        "id": "HD4fBObxtTJH",
        "colab_type": "text"
      },
      "source": [
        "### Create some tensors"
      ]
    },
    {
      "cell_type": "code",
      "metadata": {
        "id": "Q9AKSEuitYnA",
        "colab_type": "code",
        "outputId": "de0b715d-b064-4783-b52c-932bf7cdc9c8",
        "colab": {
          "base_uri": "https://localhost:8080/",
          "height": 595
        }
      },
      "source": [
        "# sample tensor (1 dimension)\n",
        "a = torch.rand(5)\n",
        "\n",
        "# sample tensor (2 dimension)\n",
        "b = torch.zeros(3, 3)\n",
        "\n",
        "# sample tensor (... dimension)\n",
        "c = torch.ones(3,1,3,2,4)\n",
        "\n",
        "print(a)\n",
        "print(b)\n",
        "print(c)"
      ],
      "execution_count": 7,
      "outputs": [
        {
          "output_type": "stream",
          "text": [
            "tensor([0.7598, 0.4042, 0.4525, 0.1922, 0.6505])\n",
            "tensor([[0., 0., 0.],\n",
            "        [0., 0., 0.],\n",
            "        [0., 0., 0.]])\n",
            "tensor([[[[[1., 1., 1., 1.],\n",
            "           [1., 1., 1., 1.]],\n",
            "\n",
            "          [[1., 1., 1., 1.],\n",
            "           [1., 1., 1., 1.]],\n",
            "\n",
            "          [[1., 1., 1., 1.],\n",
            "           [1., 1., 1., 1.]]]],\n",
            "\n",
            "\n",
            "\n",
            "        [[[[1., 1., 1., 1.],\n",
            "           [1., 1., 1., 1.]],\n",
            "\n",
            "          [[1., 1., 1., 1.],\n",
            "           [1., 1., 1., 1.]],\n",
            "\n",
            "          [[1., 1., 1., 1.],\n",
            "           [1., 1., 1., 1.]]]],\n",
            "\n",
            "\n",
            "\n",
            "        [[[[1., 1., 1., 1.],\n",
            "           [1., 1., 1., 1.]],\n",
            "\n",
            "          [[1., 1., 1., 1.],\n",
            "           [1., 1., 1., 1.]],\n",
            "\n",
            "          [[1., 1., 1., 1.],\n",
            "           [1., 1., 1., 1.]]]]])\n"
          ],
          "name": "stdout"
        }
      ]
    },
    {
      "cell_type": "markdown",
      "metadata": {
        "id": "6rQI_ugsuQLz",
        "colab_type": "text"
      },
      "source": [
        "### Enable GPU Usage with PyTorch"
      ]
    },
    {
      "cell_type": "code",
      "metadata": {
        "id": "CboTuqyUuXTM",
        "colab_type": "code",
        "colab": {}
      },
      "source": [
        "if torch.cuda.is_available():\n",
        "  device = torch.device('cuda')\n",
        "else:\n",
        "  device = torch.device('cpu')\n",
        "  print('GPU is not available')"
      ],
      "execution_count": 0,
      "outputs": []
    },
    {
      "cell_type": "code",
      "metadata": {
        "id": "XbtVuFr7urVy",
        "colab_type": "code",
        "outputId": "f160570d-6424-4ea6-e173-8d8d98c07b54",
        "colab": {
          "base_uri": "https://localhost:8080/",
          "height": 119
        }
      },
      "source": [
        "# create PyTorch tensor\n",
        "x = torch.rand(5,5)\n",
        "\n",
        "# attach tensor to GPU device\n",
        "x = x.to(device)\n",
        "print('Is tensor x on the GPU {} '.format(x.is_cuda))\n",
        "print(x)"
      ],
      "execution_count": 9,
      "outputs": [
        {
          "output_type": "stream",
          "text": [
            "Is tensor x on the GPU True \n",
            "tensor([[0.4540, 0.3330, 0.3672, 0.1419, 0.2914],\n",
            "        [0.8033, 0.4212, 0.8801, 0.9947, 0.3709],\n",
            "        [0.1669, 0.3675, 0.6973, 0.6134, 0.9394],\n",
            "        [0.5866, 0.9739, 0.9903, 0.3577, 0.9604],\n",
            "        [0.0451, 0.2604, 0.9179, 0.7208, 0.2304]], device='cuda:0')\n"
          ],
          "name": "stdout"
        }
      ]
    },
    {
      "cell_type": "code",
      "metadata": {
        "id": "tmDsum-wvqYw",
        "colab_type": "code",
        "colab": {
          "base_uri": "https://localhost:8080/",
          "height": 34
        },
        "outputId": "7d42721c-fc88-4fb2-a717-3769c69216ac"
      },
      "source": [
        "import keras"
      ],
      "execution_count": 10,
      "outputs": [
        {
          "output_type": "stream",
          "text": [
            "Using TensorFlow backend.\n"
          ],
          "name": "stderr"
        }
      ]
    }
  ]
}